{
  "nbformat": 4,
  "nbformat_minor": 0,
  "metadata": {
    "kernelspec": {
      "display_name": "Python 3",
      "language": "python",
      "name": "python3"
    },
    "language_info": {
      "codemirror_mode": {
        "name": "ipython",
        "version": 3
      },
      "file_extension": ".py",
      "mimetype": "text/x-python",
      "name": "python",
      "nbconvert_exporter": "python",
      "pygments_lexer": "ipython3",
      "version": "3.8.5"
    },
    "colab": {
      "name": "002_quantitative_momentum_strategy.ipynb",
      "provenance": [],
      "toc_visible": true
    }
  },
  "cells": [
    {
      "cell_type": "markdown",
      "metadata": {
        "id": "zXLEK7b12BJh"
      },
      "source": [
        "# Quantitative Momentum Strategy\n",
        "\n",
        "\"Momentum investing\" means investing in the stocks that have increased in price the most.\n",
        "\n",
        "For this project, we're going to build an investing strategy that selects the 50 stocks with the highest price momentum. From there, we will calculate recommended trades for an equal-weight portfolio of these 50 stocks.\n",
        "\n",
        "\n",
        "## Library Imports\n",
        "\n",
        "The first thing we need to do is import the open-source software libraries that we'll be using in this tutorial."
      ]
    },
    {
      "cell_type": "code",
      "metadata": {
        "id": "7iIDfsNF2BJo"
      },
      "source": [
        "import numpy as np\n",
        "import pandas as pd\n",
        "import requests\n",
        "import math\n",
        "from scipy import stats\n",
        "\n",
        "%pip install xlsxwriter\n",
        "import xlsxwriter"
      ],
      "execution_count": null,
      "outputs": []
    },
    {
      "cell_type": "markdown",
      "metadata": {
        "id": "hTapp2d52BJq"
      },
      "source": [
        "## Importing Our List of Stocks\n",
        "\n",
        "As before, we'll need to import our list of stocks and our API token before proceeding. Make sure the `.csv` file is still in your working directory and import it with the following command:"
      ]
    },
    {
      "cell_type": "code",
      "metadata": {
        "id": "hfjRWsvA2BJq"
      },
      "source": [
        "file_path = 'https://raw.githubusercontent.com/xiaoconghua/algorithmic-trading-python/master/starter_files/sp_500_stocks.csv'\n",
        "stocks = pd.read_csv(file_path)\n",
        "\n",
        "# Move this to a `secrets.py` in the future\n",
        "IEX_CLOUD_API_TOKEN = 'Tpk_059b97af715d417d9f49f50b51b1c448'"
      ],
      "execution_count": null,
      "outputs": []
    },
    {
      "cell_type": "markdown",
      "metadata": {
        "id": "8Pysnkoj2BJq"
      },
      "source": [
        "## Making Our First API Call\n",
        "\n",
        "It's now time to make the first version of our momentum screener!\n",
        "\n",
        "We need to get one-year price returns for each stock in the universe. Here's how."
      ]
    },
    {
      "cell_type": "code",
      "metadata": {
        "id": "KhpYo20O2BJr"
      },
      "source": [
        "symbol = 'AAPL'\n",
        "api_url = f'https://sandbox.iexapis.com/stable/stock/{symbol}/stats?token={IEX_CLOUD_API_TOKEN}'\n",
        "data = requests.get(api_url).json()"
      ],
      "execution_count": null,
      "outputs": []
    },
    {
      "cell_type": "markdown",
      "metadata": {
        "id": "5heIFEbc2BJr"
      },
      "source": [
        "## Parsing Our API Call\n",
        "\n",
        "This API call has all the information we need. We can parse it using the same square-bracket notation as in the first project of this course. Here is an example."
      ]
    },
    {
      "cell_type": "code",
      "metadata": {
        "id": "NH5XV7ua2BJr"
      },
      "source": [
        "data['year1ChangePercent']"
      ],
      "execution_count": null,
      "outputs": []
    },
    {
      "cell_type": "markdown",
      "metadata": {
        "id": "Yn2h9EvK2BJs"
      },
      "source": [
        "## Executing A Batch API Call & Building Our DataFrame\n",
        "\n",
        "Just like in our first project, it's now time to execute several batch API calls and add the information we need to our DataFrame.\n",
        "\n",
        "We'll start by running the following code cell, which contains some code we already built last time that we can re-use for this project. More specifically, it contains a function called `chunks` that we can use to divide our list of securities into groups of 100."
      ]
    },
    {
      "cell_type": "code",
      "metadata": {
        "id": "ylSbMNOA2BJs"
      },
      "source": [
        "# Function sourced from \n",
        "# https://stackoverflow.com/questions/312443/how-do-you-split-a-list-into-evenly-sized-chunks\n",
        "def chunks(lst, n):\n",
        "    \"\"\"Yield successive n-sized chunks from lst.\"\"\"\n",
        "    for i in range(0, len(lst), n):\n",
        "        yield lst[i:i + n]   \n",
        "        \n",
        "symbol_groups = list(chunks(stocks['Ticker'], 100))\n",
        "symbol_strings = []\n",
        "for i in range(0, len(symbol_groups)):\n",
        "    symbol_strings.append(','.join(symbol_groups[i]))\n",
        "    # print(symbol_strings[i])\n",
        "\n",
        "my_columns = ['Ticker', 'Price', 'One-Year Price Return', 'Number of Shares to Buy']"
      ],
      "execution_count": null,
      "outputs": []
    },
    {
      "cell_type": "markdown",
      "metadata": {
        "id": "XXZDEpSl2BJs"
      },
      "source": [
        "Now we need to create a blank DataFrame and add our data to the data frame one-by-one."
      ]
    },
    {
      "cell_type": "code",
      "metadata": {
        "id": "hDC5HLmE2BJt"
      },
      "source": [
        "final_dataframe = pd.DataFrame(columns=my_columns)\n",
        "for symbol_string in symbol_strings:\n",
        "  batch_api_call_url = f'https://sandbox.iexapis.com/stable/stock/market/batch?symbols={symbol_string}&types=price,stats&range=1m&last=5&token={IEX_CLOUD_API_TOKEN}'\n",
        "  data = requests.get(batch_api_call_url).json()\n",
        "  # print(data)\n",
        "  # print(symbol_string)\n",
        "  for symbol in symbol_string.split(','):\n",
        "    # print(data[symbol])\n",
        "    final_dataframe = final_dataframe.append(\n",
        "                          pd.Series(\n",
        "                              [\n",
        "                              symbol,\n",
        "                              data[symbol]['price'],\n",
        "                              data[symbol]['stats']['year1ChangePercent'],\n",
        "                              'N/A'\n",
        "                              ],\n",
        "                              index=my_columns,\n",
        "                          ),\n",
        "                          ignore_index=True\n",
        "                      )\n",
        "final_dataframe"
      ],
      "execution_count": null,
      "outputs": []
    },
    {
      "cell_type": "markdown",
      "metadata": {
        "id": "GfjjV_LJ2BJt"
      },
      "source": [
        "## Removing Low-Momentum Stocks\n",
        "\n",
        "The investment strategy that we're building seeks to identify the 50 highest-momentum stocks in the S&P 500.\n",
        "\n",
        "Because of this, the next thing we need to do is remove all the stocks in our DataFrame that fall below this momentum threshold. We'll sort the DataFrame by the stocks' one-year price return, and drop all stocks outside the top 50.\n"
      ]
    },
    {
      "cell_type": "code",
      "metadata": {
        "id": "WLFTIFRF2BJt"
      },
      "source": [
        "final_dataframe.sort_values('One-Year Price Return', ascending=False, inplace=True)\n",
        "shorter_datafram = final_dataframe[:50]\n",
        "shorter_datafram.reset_index(inplace=True)"
      ],
      "execution_count": null,
      "outputs": []
    },
    {
      "cell_type": "markdown",
      "metadata": {
        "id": "dQg1Ub-D2BJu"
      },
      "source": [
        "## Calculating the Number of Shares to Buy\n",
        "\n",
        "Just like in the last project, we now need to calculate the number of shares we need to buy. The one change we're going to make is wrapping this functionality inside a function, since we'll be using it again later in this Jupyter Notebook.\n",
        "\n",
        "Since we've already done most of the work on this, try to complete the following two code cells without watching me do it first!"
      ]
    },
    {
      "cell_type": "code",
      "metadata": {
        "id": "9Z74v6Rz2BJu"
      },
      "source": [
        "def input_portfolio():\n",
        "  portfolio_size = input(\"Plase enter the portfolio size:\")\n",
        "  try:\n",
        "    val = float(portfolio_size)\n",
        "  except ValueError:\n",
        "    print(\"The input portfolio size is not a integer! \\n Please input again.\")\n",
        "    portfolio_size = input(\"Plase enter the portfolio size:\")\n",
        "    val = float(portfolio_size)\n",
        "\n",
        "  return val\n",
        "\n",
        "portfolio_size = input_portfolio()"
      ],
      "execution_count": null,
      "outputs": []
    },
    {
      "cell_type": "code",
      "metadata": {
        "id": "JVnCimdA2BJu"
      },
      "source": [
        "position_size = portfolio_size/len(shorter_datafram.index)\n",
        "print(position_size)\n",
        "for i in range(len(shorter_datafram.index)):\n",
        "  shorter_datafram.loc[i, 'Number of Shares to Buy'] = math.floor(position_size/shorter_datafram.loc[i, 'Price'])"
      ],
      "execution_count": null,
      "outputs": []
    },
    {
      "cell_type": "markdown",
      "metadata": {
        "id": "GBsmzsJK2BJv"
      },
      "source": [
        "## Building a Better (and More Realistic) Momentum Strategy\n",
        "\n",
        "Real-world quantitative investment firms differentiate between \"high quality\" and \"low quality\" momentum stocks:\n",
        "\n",
        "* High-quality momentum stocks show \"slow and steady\" outperformance over long periods of time\n",
        "* Low-quality momentum stocks might not show any momentum for a long time, and then surge upwards.\n",
        "\n",
        "The reason why high-quality momentum stocks are preferred is because low-quality momentum can often be cause by short-term news that is unlikely to be repeated in the future (such as an FDA approval for a biotechnology company).\n",
        "\n",
        "To identify high-quality momentum, we're going to build a strategy that selects stocks from the highest percentiles of: \n",
        "\n",
        "* 1-month price returns\n",
        "* 3-month price returns\n",
        "* 6-month price returns\n",
        "* 1-year price returns\n",
        "\n",
        "Let's start by building our DataFrame. You'll notice that I use the abbreviation `hqm` often. It stands for `high-quality momentum`."
      ]
    },
    {
      "cell_type": "code",
      "metadata": {
        "id": "_elzr5eP2BJw"
      },
      "source": [
        "hqm_columns = [\n",
        "  'Ticker',\n",
        "  'Price',\n",
        "  'Number of Shares to Buy',\n",
        "  'One-Year Price Return',\n",
        "  'One-Year Return Percentile',\n",
        "  'Six-Month Price Return',\n",
        "  'Six-Month Return Percentile',\n",
        "  'Three-Month Price Return',\n",
        "  'Three-Month Return Percentile',\n",
        "  'One-Month Price Return',\n",
        "  'One-Month Return Percentile',\n",
        "  'HQM Score',\n",
        "]\n",
        "\n",
        "hqm_dataframe = pd.DataFrame(columns=hqm_columns)\n",
        "\n",
        "for symbol_string in symbol_strings:\n",
        "  batch_api_call_url = f'https://sandbox.iexapis.com/stable/stock/market/batch?symbols={symbol_string}&types=price,stats&range=1m&last=5&token={IEX_CLOUD_API_TOKEN}'\n",
        "  data = requests.get(batch_api_call_url).json()\n",
        "  # print(data)\n",
        "  # print(symbol_string)\n",
        "  for symbol in symbol_string.split(','):\n",
        "    # print(data[symbol])\n",
        "    hqm_dataframe = hqm_dataframe.append(\n",
        "                          pd.Series(\n",
        "                              [\n",
        "                              symbol,\n",
        "                              data[symbol]['price'],\n",
        "                              'N/A',\n",
        "                              data[symbol]['stats']['year1ChangePercent'],\n",
        "                              'N/A',\n",
        "                              data[symbol]['stats']['month6ChangePercent'],\n",
        "                              'N/A',\n",
        "                              data[symbol]['stats']['month3ChangePercent'],\n",
        "                              'N/A',\n",
        "                              data[symbol]['stats']['month1ChangePercent'],\n",
        "                              'N/A',\n",
        "                              'N/A',\n",
        "                              ],\n",
        "                              index=hqm_columns,\n",
        "                          ),\n",
        "                          ignore_index=True\n",
        "                      )\n",
        "hqm_dataframe"
      ],
      "execution_count": null,
      "outputs": []
    },
    {
      "cell_type": "markdown",
      "metadata": {
        "id": "WI5Jow-e2BJw"
      },
      "source": [
        "## Calculating Momentum Percentiles\n",
        "\n",
        "We now need to calculate momentum percentile scores for every stock in the universe. More specifically, we need to calculate percentile scores for the following metrics for every stock:\n",
        "\n",
        "* `One-Year Price Return`\n",
        "* `Six-Month Price Return`\n",
        "* `Three-Month Price Return`\n",
        "* `One-Month Price Return`\n",
        "\n",
        "Here's how we'll do this:"
      ]
    },
    {
      "cell_type": "code",
      "metadata": {
        "id": "l3LpKVWvPChH"
      },
      "source": [
        "hqm_dataframe.isnull().any()"
      ],
      "execution_count": null,
      "outputs": []
    },
    {
      "cell_type": "code",
      "metadata": {
        "id": "9-f8Syfm2BJw"
      },
      "source": [
        "time_periods = [\n",
        "  'One-Year',\n",
        "  'Six-Month',\n",
        "  'Three-Month',\n",
        "  'One-Month'\n",
        "]\n",
        "\n",
        "for time_period in time_periods:\n",
        "  hqm_dataframe[f'{time_period} Price Return'].fillna(0, inplace=True)\n",
        "\n",
        "for row in hqm_dataframe.index:\n",
        "  for time_period in time_periods:\n",
        "    change_col = f'{time_period} Price Return'\n",
        "    percentile_col = f'{time_period} Return Percentile'\n",
        "    hqm_dataframe.loc[row, percentile_col] = \\\n",
        "      stats.percentileofscore(hqm_dataframe[f'{time_period} Price Return'],\n",
        "                              hqm_dataframe.loc[row, f'{time_period} Price Return']) / 100\n",
        "\n",
        "hqm_dataframe"
      ],
      "execution_count": null,
      "outputs": []
    },
    {
      "cell_type": "markdown",
      "metadata": {
        "id": "cDQ-I4Mq2BJx"
      },
      "source": [
        "## Calculating the HQM Score\n",
        "\n",
        "We'll now calculate our `HQM Score`, which is the high-quality momentum score that we'll use to filter for stocks in this investing strategy.\n",
        "\n",
        "The `HQM Score` will be the arithmetic mean of the 4 momentum percentile scores that we calculated in the last section.\n",
        "\n",
        "To calculate arithmetic mean, we will use the `mean` function from Python's built-in `statistics` module."
      ]
    },
    {
      "cell_type": "code",
      "metadata": {
        "id": "u4duxK5E2BJx"
      },
      "source": [
        "from statistics import mean\n",
        "\n",
        "for row in hqm_dataframe.index:\n",
        "  momentum_precentiles = []\n",
        "  for time_period in time_periods:\n",
        "    momentum_precentiles.append(hqm_dataframe.loc[row, f'{time_period} Return Percentile'])\n",
        "  hqm_dataframe.loc[row, 'HQM Score'] = mean(momentum_precentiles)\n",
        "\n",
        "hqm_dataframe"
      ],
      "execution_count": null,
      "outputs": []
    },
    {
      "cell_type": "markdown",
      "metadata": {
        "id": "FKModhpk2BJx"
      },
      "source": [
        "## Selecting the 50 Best Momentum Stocks\n",
        "\n",
        "As before, we can identify the 50 best momentum stocks in our universe by sorting the DataFrame on the `HQM Score` column and dropping all but the top 50 entries."
      ]
    },
    {
      "cell_type": "code",
      "metadata": {
        "id": "nu8Ip0yN2BJy"
      },
      "source": [
        "hqm_dataframe.sort_values('HQM Score', ascending=False, inplace=True)\n",
        "hqm_dataframe = hqm_dataframe[:50]\n",
        "hqm_dataframe.reset_index(inplace=True,drop=True)\n"
      ],
      "execution_count": null,
      "outputs": []
    },
    {
      "cell_type": "code",
      "metadata": {
        "id": "FHbdY47bVJ8m"
      },
      "source": [
        "hqm_dataframe"
      ],
      "execution_count": null,
      "outputs": []
    },
    {
      "cell_type": "markdown",
      "metadata": {
        "id": "9DddQ_zy2BJy"
      },
      "source": [
        "## Calculating the Number of Shares to Buy\n",
        "\n",
        "We'll use the `portfolio_input` function that we created earlier to accept our portfolio size. Then we will use similar logic in a `for` loop to calculate the number of shares to buy for each stock in our investment universe."
      ]
    },
    {
      "cell_type": "code",
      "metadata": {
        "id": "-s_VT7b42BJz"
      },
      "source": [
        "portfolio_size = input_portfolio()"
      ],
      "execution_count": null,
      "outputs": []
    },
    {
      "cell_type": "code",
      "metadata": {
        "id": "DAyTKWo32BJz"
      },
      "source": [
        "position_size = portfolio_size / len(hqm_dataframe.index)\n",
        "for i in range(len(hqm_dataframe.index)):\n",
        "  hqm_dataframe.loc[i, 'Number of Shares to Buy'] = \\\n",
        "    math.floor(position_size/hqm_dataframe.loc[i, 'Price'])\n",
        "  \n",
        "hqm_dataframe"
      ],
      "execution_count": null,
      "outputs": []
    },
    {
      "cell_type": "markdown",
      "metadata": {
        "id": "oKrGz5sp2BJz"
      },
      "source": [
        "## Formatting Our Excel Output\n",
        "\n",
        "We will be using the XlsxWriter library for Python to create nicely-formatted Excel files.\n",
        "\n",
        "XlsxWriter is an excellent package and offers tons of customization. However, the tradeoff for this is that the library can seem very complicated to new users. Accordingly, this section will be fairly long because I want to do a good job of explaining how XlsxWriter works."
      ]
    },
    {
      "cell_type": "code",
      "metadata": {
        "id": "Th-39DRJ2BJz"
      },
      "source": [
        "writer = pd.ExcelWriter('momentum_strage.xlsx', engine='xlsxwriter')\n",
        "hqm_dataframe.to_excel(writer, 'Momentum Strategy', index=False)"
      ],
      "execution_count": null,
      "outputs": []
    },
    {
      "cell_type": "markdown",
      "metadata": {
        "id": "dQN8yyTm2BJ0"
      },
      "source": [
        "## Creating the Formats We'll Need For Our .xlsx File\n",
        "\n",
        "You'll recall from our first project that formats include colors, fonts, and also symbols like % and $. We'll need four main formats for our Excel document:\n",
        "\n",
        "* String format for tickers\n",
        "* \\$XX.XX format for stock prices\n",
        "* \\$XX,XXX format for market capitalization\n",
        "* Integer format for the number of shares to purchase\n",
        "\n",
        "Since we already built our formats in the last section of this course, I've included them below for you. Run this code cell before proceeding."
      ]
    },
    {
      "cell_type": "code",
      "metadata": {
        "id": "sQ4C91x02BJ0"
      },
      "source": [
        "background_color = '#0a0a23'\n",
        "font_color = '#ffffff'\n",
        "\n",
        "string_template = writer.book.add_format(\n",
        "        {\n",
        "            'font_color': font_color,\n",
        "            'bg_color': background_color,\n",
        "            'border': 1\n",
        "        }\n",
        "    )\n",
        "\n",
        "dollar_template = writer.book.add_format(\n",
        "        {\n",
        "            'num_format':'$0.00',\n",
        "            'font_color': font_color,\n",
        "            'bg_color': background_color,\n",
        "            'border': 1\n",
        "        }\n",
        "    )\n",
        "\n",
        "integer_template = writer.book.add_format(\n",
        "        {\n",
        "            'num_format':'0',\n",
        "            'font_color': font_color,\n",
        "            'bg_color': background_color,\n",
        "            'border': 1\n",
        "        }\n",
        "    )\n",
        "\n",
        "percent_template = writer.book.add_format(\n",
        "        {\n",
        "            'num_format':'0.0%',\n",
        "            'font_color': font_color,\n",
        "            'bg_color': background_color,\n",
        "            'border': 1\n",
        "        }\n",
        "    )"
      ],
      "execution_count": null,
      "outputs": []
    },
    {
      "cell_type": "code",
      "metadata": {
        "id": "cTc-zuRi2BJ0"
      },
      "source": [
        "column_formats = {\n",
        "    'A': ['Ticker', string_template],\n",
        "    'B': ['Price', dollar_template],\n",
        "    'C': ['Number of Shares to Buy', integer_template],\n",
        "    'D': ['One-Year Price Return', percent_template],\n",
        "    'E': ['One-Year Return Percentile', percent_template],\n",
        "    'F': ['Six-Month Price Return', percent_template],\n",
        "    'G': ['Six-Month Return Percentile', percent_template],\n",
        "    'H': ['Three-Month Price Return', percent_template],\n",
        "    'I': ['Three-Month Return Percentile', percent_template],\n",
        "    'J': ['One-Month Price Return', percent_template],\n",
        "    'K': ['One-Month Return Percentile', percent_template],\n",
        "    'L': ['HQM Score', percent_template],\n",
        "}\n",
        "\n",
        "for column in column_formats:\n",
        "  writer.sheets['Momentum Strategy'].set_column(f'{column}:{column}', 18, column_formats[column][1])\n",
        "  writer.sheets['Momentum Strategy'].write(f'{column}1', column_formats[column][0], column_formats[column][1])"
      ],
      "execution_count": null,
      "outputs": []
    },
    {
      "cell_type": "markdown",
      "metadata": {
        "id": "n0HvlopP2BJ0"
      },
      "source": [
        "## Saving Our Excel Output\n",
        "\n",
        "As before, saving our Excel output is very easy:"
      ]
    },
    {
      "cell_type": "code",
      "metadata": {
        "id": "uEFK1HWq2BJ1"
      },
      "source": [
        "writer.save()"
      ],
      "execution_count": null,
      "outputs": []
    },
    {
      "cell_type": "code",
      "metadata": {
        "id": "1Dn0Gns_W8PK"
      },
      "source": [
        ""
      ],
      "execution_count": null,
      "outputs": []
    }
  ]
}