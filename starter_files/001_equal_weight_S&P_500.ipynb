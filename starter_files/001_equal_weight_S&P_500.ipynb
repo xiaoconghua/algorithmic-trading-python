{
  "nbformat": 4,
  "nbformat_minor": 0,
  "metadata": {
    "kernelspec": {
      "display_name": "Python 3",
      "language": "python",
      "name": "python3"
    },
    "language_info": {
      "codemirror_mode": {
        "name": "ipython",
        "version": 3
      },
      "file_extension": ".py",
      "mimetype": "text/x-python",
      "name": "python",
      "nbconvert_exporter": "python",
      "pygments_lexer": "ipython3",
      "version": "3.8.2"
    },
    "colab": {
      "name": "001_equal_weight_S&P_500.ipynb",
      "provenance": [],
      "toc_visible": true
    }
  },
  "cells": [
    {
      "cell_type": "markdown",
      "metadata": {
        "id": "bg6KfWovujoJ"
      },
      "source": [
        "# Equal-Weight S&P 500 Index Fund\n",
        "\n",
        "## Introduction & Library Imports\n",
        "\n",
        "The S&P 500 is the world's most popular stock market index. The largest fund that is benchmarked to this index is the SPDR® S&P 500® ETF Trust. It has more than US$250 billion of assets under management.\n",
        "\n",
        "The goal of this section of the course is to create a Python script that will accept the value of your portfolio and tell you how many shares of each S&P 500 constituent you should purchase to get an equal-weight version of the index fund.\n",
        "\n",
        "## Library Imports\n",
        "\n",
        "The first thing we need to do is import the open-source software libraries that we'll be using in this tutorial."
      ]
    },
    {
      "cell_type": "code",
      "metadata": {
        "id": "oUbDOGDcujoU"
      },
      "source": [
        "import numpy as np\n",
        "import pandas as pd\n",
        "import requests\n",
        "import math\n",
        "\n",
        "%pip install xlsxwriter\n",
        "import xlsxwriter"
      ],
      "execution_count": null,
      "outputs": []
    },
    {
      "cell_type": "markdown",
      "metadata": {
        "id": "zIzA0r1aujoV"
      },
      "source": [
        "## Importing Our List of Stocks\n",
        "\n",
        "The next thing we need to do is import the constituents of the S&P 500.\n",
        "\n",
        "These constituents change over time, so in an ideal world you would connect directly to the index provider (Standard & Poor's) and pull their real-time constituents on a regular basis.\n",
        "\n",
        "Paying for access to the index provider's API is outside of the scope of this course. \n",
        "\n",
        "There's a static version of the S&P 500 constituents available here. [Click this link to download them now](https://drive.google.com/file/d/1ZJSpbY69DVckVZlO9cC6KkgfSufybcHN/view?usp=sharing). Move this file into the `starter-files` folder so it can be accessed by other files in that directory.\n",
        "\n",
        "Now it's time to import these stocks to our Jupyter Notebook file."
      ]
    },
    {
      "cell_type": "code",
      "metadata": {
        "id": "OM0HqaLdujoV"
      },
      "source": [
        "file_path = 'https://raw.githubusercontent.com/xiaoconghua/algorithmic-trading-python/master/starter_files/sp_500_stocks.csv'\n",
        "stocks = pd.read_csv(file_path)\n",
        "stocks"
      ],
      "execution_count": null,
      "outputs": []
    },
    {
      "cell_type": "markdown",
      "metadata": {
        "id": "HbfT-O3PujoW"
      },
      "source": [
        "## Acquiring an API Token\n",
        "\n",
        "Now it's time to import our IEX Cloud API token. This is the data provider that we will be using throughout this course.\n",
        "\n",
        "API tokens (and other sensitive information) should be stored in a `secrets.py` file that doesn't get pushed to your local Git repository. We'll be using a sandbox API token in this course, which means that the data we'll use is randomly-generated and (more importantly) has no cost associated with it.\n",
        "\n",
        "[Click here](http://nickmccullum.com/algorithmic-trading-python/secrets.py) to download your `secrets.py` file. Move the file into the same directory as this Jupyter Notebook before proceeding."
      ]
    },
    {
      "cell_type": "code",
      "metadata": {
        "id": "_1s9rc2AujoW"
      },
      "source": [
        "# Move this to a `secrets.py` in the future\n",
        "IEX_CLOUD_API_TOKEN = 'Tpk_059b97af715d417d9f49f50b51b1c448'"
      ],
      "execution_count": null,
      "outputs": []
    },
    {
      "cell_type": "markdown",
      "metadata": {
        "id": "zITVCvsJujoX"
      },
      "source": [
        "## Making Our First API Call\n",
        "\n",
        "Now it's time to structure our API calls to IEX cloud. \n",
        "\n",
        "We need the following information from the API:\n",
        "\n",
        "* Market capitalization for each stock\n",
        "* Price of each stock\n",
        "\n"
      ]
    },
    {
      "cell_type": "code",
      "metadata": {
        "id": "XXjTMzmUujoX"
      },
      "source": [
        "symbol = 'AAPL'\n",
        "api_url = f'https://sandbox.iexapis.com/stable/stock/{symbol}/quote/?token={IEX_CLOUD_API_TOKEN}'\n",
        "data = requests.get(api_url).json()"
      ],
      "execution_count": null,
      "outputs": []
    },
    {
      "cell_type": "markdown",
      "metadata": {
        "id": "q4d-IpNtujoY"
      },
      "source": [
        "## Parsing Our API Call\n",
        "\n",
        "The API call that we executed in the last code block contains all of the information required to build our equal-weight S&P 500 strategy. \n",
        "\n",
        "With that said, the data isn't in a proper format yet. We need to parse it first."
      ]
    },
    {
      "cell_type": "code",
      "metadata": {
        "id": "PJoc1h8lujoY"
      },
      "source": [
        "price = data['latestPrice']\n",
        "market_cap = data['marketCap']\n",
        "print(price)\n",
        "print(market_cap)"
      ],
      "execution_count": null,
      "outputs": []
    },
    {
      "cell_type": "markdown",
      "metadata": {
        "id": "hCMPUFTAujoZ"
      },
      "source": [
        "## Adding Our Stocks Data to a Pandas DataFrame\n",
        "\n",
        "The next thing we need to do is add our stock's price and market capitalization to a pandas DataFrame. Think of a DataFrame like the Python version of a spreadsheet. It stores tabular data."
      ]
    },
    {
      "cell_type": "code",
      "metadata": {
        "id": "dryqI3zDujoZ"
      },
      "source": [
        "my_columns = ['Ticker', 'Stock Price', 'Market Capitalization', 'Number of Shares to Buy']\n",
        "final_dataframe = pd.DataFrame(columns=my_columns)\n",
        "final_dataframe"
      ],
      "execution_count": null,
      "outputs": []
    },
    {
      "cell_type": "code",
      "metadata": {
        "id": "y94cJ-ztujoZ"
      },
      "source": [
        "final_dataframe.append(\n",
        "    pd.Series(\n",
        "        [\n",
        "         symbol,\n",
        "         price,\n",
        "         market_cap,\n",
        "         'N/A'\n",
        "        ],\n",
        "        index=my_columns,\n",
        "    ),\n",
        "    ignore_index=True\n",
        ")"
      ],
      "execution_count": null,
      "outputs": []
    },
    {
      "cell_type": "markdown",
      "metadata": {
        "id": "S7gY1Abdujoa"
      },
      "source": [
        "## Looping Through The Tickers in Our List of Stocks\n",
        "\n",
        "Using the same logic that we outlined above, we can pull data for all S&P 500 stocks and store their data in the DataFrame using a `for` loop."
      ]
    },
    {
      "cell_type": "code",
      "metadata": {
        "id": "fINgk8xsujoa"
      },
      "source": [
        "final_dataframe = pd.DataFrame(columns=my_columns)\n",
        "for stock in stocks['Ticker'][:5]:\n",
        "    api_url = f'https://sandbox.iexapis.com/stable/stock/{stock}/quote/?token={IEX_CLOUD_API_TOKEN}'\n",
        "    data = requests.get(api_url).json()\n",
        "    final_dataframe = final_dataframe.append(\n",
        "                                pd.Series(\n",
        "                                    [\n",
        "                                    stock,\n",
        "                                    data['latestPrice'],\n",
        "                                    data['marketCap'],\n",
        "                                    'N/A'\n",
        "                                    ],\n",
        "                                    index=my_columns,\n",
        "                                ),\n",
        "                                ignore_index=True\n",
        "                            )\n"
      ],
      "execution_count": null,
      "outputs": []
    },
    {
      "cell_type": "code",
      "metadata": {
        "id": "NuL7U18dujoa"
      },
      "source": [
        "final_dataframe"
      ],
      "execution_count": null,
      "outputs": []
    },
    {
      "cell_type": "markdown",
      "metadata": {
        "id": "2EB4tyfEujob"
      },
      "source": [
        "## Using Batch API Calls to Improve Performance\n",
        "\n",
        "Batch API calls are one of the easiest ways to improve the performance of your code.\n",
        "\n",
        "This is because HTTP requests are typically one of the slowest components of a script.\n",
        "\n",
        "Also, API providers will often give you discounted rates for using batch API calls since they are easier for the API provider to respond to.\n",
        "\n",
        "IEX Cloud limits their batch API calls to 100 tickers per request. Still, this reduces the number of API calls we'll make in this section from 500 to 5 - huge improvement! In this section, we'll split our list of stocks into groups of 100 and then make a batch API call for each group."
      ]
    },
    {
      "cell_type": "code",
      "metadata": {
        "id": "0Eu8XtJDujob"
      },
      "source": [
        "def chunks(list, n):\n",
        "  for i in range(0, len(list), n):\n",
        "    yield list[i:i + n]"
      ],
      "execution_count": null,
      "outputs": []
    },
    {
      "cell_type": "code",
      "metadata": {
        "id": "t5pzOyP9ujoc"
      },
      "source": [
        "symbol_groups = list(chunks(stocks['Ticker'], 100))\n",
        "symbol_strings = []\n",
        "for i in range(len(symbol_groups)):\n",
        "  symbol_strings.append(','.join(symbol_groups[i]))\n",
        "\n",
        "final_dataframe = pd.DataFrame(columns=my_columns)\n",
        "for symbol_string in symbol_strings:\n",
        "  batch_api_call_url = f'https://sandbox.iexapis.com/stable/stock/market/batch?symbols={symbol_string}&types=quote,news,chart&range=1m&last=5&token={IEX_CLOUD_API_TOKEN}'\n",
        "  data = requests.get(batch_api_call_url).json()\n",
        "  for symbol in symbol_string.split(','):\n",
        "    final_dataframe = final_dataframe.append(\n",
        "                          pd.Series(\n",
        "                              [\n",
        "                              symbol,\n",
        "                              data[symbol]['quote']['latestPrice'],\n",
        "                              data[symbol]['quote']['marketCap'],\n",
        "                              'N/A'\n",
        "                              ],\n",
        "                              index=my_columns,\n",
        "                          ),\n",
        "                          ignore_index=True\n",
        "                      )\n",
        "final_dataframe"
      ],
      "execution_count": null,
      "outputs": []
    },
    {
      "cell_type": "markdown",
      "metadata": {
        "id": "VMLaBy-3ujoc"
      },
      "source": [
        "## Calculating the Number of Shares to Buy\n",
        "\n",
        "As you can see in the DataFrame above, we stil haven't calculated the number of shares of each stock to buy.\n",
        "\n",
        "We'll do that next."
      ]
    },
    {
      "cell_type": "code",
      "metadata": {
        "id": "khkxy0A7ujoc"
      },
      "source": [
        "portfolio_size = input('Enter the value of your portforlio:')\n",
        "try:\n",
        "  val = float(portfolio_size)\n",
        "except ValueError:\n",
        "  print('Input is not a number! \\nPlease try again:')\n",
        "  portfolio_size = input('Enter the value of your portforlio:')\n",
        "  val = float(portfolio_size)"
      ],
      "execution_count": null,
      "outputs": []
    },
    {
      "cell_type": "code",
      "metadata": {
        "id": "_hJsqsGiujod"
      },
      "source": [
        "position_size = val / len(final_dataframe.index)\n",
        "# number_of_apple_shareds = position_size/117\n",
        "for i in range(len(final_dataframe.index)):\n",
        "  final_dataframe.loc[i, 'Number of Shares to Buy'] = \\\n",
        "    math.floor(position_size/final_dataframe.loc[i, 'Stock Price'])\n",
        "\n",
        "print(final_dataframe)"
      ],
      "execution_count": null,
      "outputs": []
    },
    {
      "cell_type": "markdown",
      "metadata": {
        "id": "hD_JcDvdujod"
      },
      "source": [
        "## Formatting Our Excel Output\n",
        "\n",
        "We will be using the XlsxWriter library for Python to create nicely-formatted Excel files.\n",
        "\n",
        "XlsxWriter is an excellent package and offers tons of customization. However, the tradeoff for this is that the library can seem very complicated to new users. Accordingly, this section will be fairly long because I want to do a good job of explaining how XlsxWriter works.\n",
        "\n",
        "### Initializing our XlsxWriter Object"
      ]
    },
    {
      "cell_type": "code",
      "metadata": {
        "id": "sWVNy-Mxujod"
      },
      "source": [
        "writer = pd.ExcelWriter('recommanded trades.xlsx', engine='xlsxwriter')\n",
        "final_dataframe.to_excel(writer, 'Recommended Trades', index=False)"
      ],
      "execution_count": null,
      "outputs": []
    },
    {
      "cell_type": "markdown",
      "metadata": {
        "id": "4YfZKQQ8ujod"
      },
      "source": [
        "### Creating the Formats We'll Need For Our `.xlsx` File\n",
        "\n",
        "Formats include colors, fonts, and also symbols like `%` and `$`. We'll need four main formats for our Excel document:\n",
        "* String format for tickers\n",
        "* \\\\$XX.XX format for stock prices\n",
        "* \\\\$XX,XXX format for market capitalization\n",
        "* Integer format for the number of shares to purchase"
      ]
    },
    {
      "cell_type": "code",
      "metadata": {
        "id": "f4O0wjFAujoe"
      },
      "source": [
        "background_color = '#0a0a23'\n",
        "font_color = '#ffffff'\n",
        "string_format = writer.book.add_format(\n",
        "    {\n",
        "        'font_color': font_color,\n",
        "        'bg_color': background_color,\n",
        "        'border': 1\n",
        "    }\n",
        ")\n",
        "\n",
        "dollar_format = writer.book.add_format(\n",
        "    {\n",
        "        'num_format': '$0.00',\n",
        "        'font_color': font_color,\n",
        "        'bg_color': background_color,\n",
        "        'border': 1\n",
        "    }\n",
        ")\n",
        "\n",
        "integer_format = writer.book.add_format(\n",
        "    {\n",
        "        'num_format': '0',\n",
        "        'font_color': font_color,\n",
        "        'bg_color': background_color,\n",
        "        'border': 1\n",
        "    }\n",
        ")"
      ],
      "execution_count": null,
      "outputs": []
    },
    {
      "cell_type": "markdown",
      "metadata": {
        "id": "uXVF8fmjujoe"
      },
      "source": [
        "### Applying the Formats to the Columns of Our `.xlsx` File\n",
        "\n",
        "We can use the `set_column` method applied to the `writer.sheets['Recommended Trades']` object to apply formats to specific columns of our spreadsheets.\n",
        "\n",
        "Here's an example:\n",
        "\n",
        "```python\n",
        "writer.sheets['Recommended Trades'].set_column('B:B', #This tells the method to apply the format to column B\n",
        "                     18, #This tells the method to apply a column width of 18 pixels\n",
        "                     string_template #This applies the format 'string_template' to the column\n",
        "                    )\n",
        "```"
      ]
    },
    {
      "cell_type": "code",
      "metadata": {
        "id": "Xfu-jTuKujoe"
      },
      "source": [
        "# writer.sheets['Recommended Trades'].set_column('A:A', 18, string_format)\n",
        "# writer.save()\n",
        "# writer.sheets['Recommended Trades'].write('A1', 'Ticker', string_format)\n",
        "# writer.sheets['Recommended Trades'].write('B1', 'Ticker', dollar_format)\n",
        "# writer.sheets['Recommended Trades'].write('C1', 'Ticker', dollar_format)\n",
        "# writer.sheets['Recommended Trades'].write('D1', 'Ticker', integer_format)"
      ],
      "execution_count": null,
      "outputs": []
    },
    {
      "cell_type": "markdown",
      "metadata": {
        "id": "pryy5jXNujoe"
      },
      "source": [
        "This code works, but it violates the software principle of \"Don't Repeat Yourself\". \n",
        "\n",
        "Let's simplify this by putting it in 2 loops:"
      ]
    },
    {
      "cell_type": "code",
      "metadata": {
        "id": "I8kxYiTuujof"
      },
      "source": [
        "column_formats = {\n",
        "    'A': ['Ticker', string_format],\n",
        "    'B': ['Stock Price', dollar_format],\n",
        "    'C': ['Market Capitalization', dollar_format],\n",
        "    'D': ['Number of Shares to Buy', integer_format]\n",
        "}\n",
        "\n",
        "for column in column_formats:\n",
        "  writer.sheets['Recommended Trades'].set_column(f'{column}:{column}', 18, column_formats[column][1])\n",
        "  writer.sheets['Recommended Trades'].write(f'{column}1', column_formats[column][0], column_formats[column][1])"
      ],
      "execution_count": null,
      "outputs": []
    },
    {
      "cell_type": "markdown",
      "metadata": {
        "id": "WL9VlQGJujof"
      },
      "source": [
        "## Saving Our Excel Output\n",
        "\n",
        "Saving our Excel file is very easy:"
      ]
    },
    {
      "cell_type": "code",
      "metadata": {
        "id": "LdddhXgNujof"
      },
      "source": [
        "writer.save()"
      ],
      "execution_count": null,
      "outputs": []
    }
  ]
}