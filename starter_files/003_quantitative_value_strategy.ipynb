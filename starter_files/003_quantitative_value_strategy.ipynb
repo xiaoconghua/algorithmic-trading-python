{
  "nbformat": 4,
  "nbformat_minor": 0,
  "metadata": {
    "kernelspec": {
      "display_name": "Python 3",
      "language": "python",
      "name": "python3"
    },
    "language_info": {
      "codemirror_mode": {
        "name": "ipython",
        "version": 3
      },
      "file_extension": ".py",
      "mimetype": "text/x-python",
      "name": "python",
      "nbconvert_exporter": "python",
      "pygments_lexer": "ipython3",
      "version": "3.8.5"
    },
    "colab": {
      "name": "003_quantitative_value_strategy.ipynb",
      "provenance": [],
      "toc_visible": true
    }
  },
  "cells": [
    {
      "cell_type": "markdown",
      "metadata": {
        "id": "c1z6_FOqahL_"
      },
      "source": [
        "# Quantitative Value Strategy\n",
        "\"Value investing\" means investing in the stocks that are cheapest relative to common measures of business value (like earnings or assets).\n",
        "\n",
        "For this project, we're going to build an investing strategy that selects the 50 stocks with the best value metrics. From there, we will calculate recommended trades for an equal-weight portfolio of these 50 stocks.\n",
        "\n",
        "## Library Imports\n",
        "The first thing we need to do is import the open-source software libraries that we'll be using in this tutorial."
      ]
    },
    {
      "cell_type": "code",
      "metadata": {
        "id": "iTaRIGZwahMH"
      },
      "source": [
        "import numpy as np\n",
        "import pandas as pd\n",
        "import requests\n",
        "import math\n",
        "from scipy import stats\n",
        "\n",
        "%pip install xlsxwriter\n",
        "import xlsxwriter"
      ],
      "execution_count": null,
      "outputs": []
    },
    {
      "cell_type": "markdown",
      "metadata": {
        "id": "OOgB6sUkahMI"
      },
      "source": [
        "## Importing Our List of Stocks & API Token\n",
        "As before, we'll need to import our list of stocks and our API token before proceeding. Make sure the .csv file is still in your working directory and import it with the following command:"
      ]
    },
    {
      "cell_type": "code",
      "metadata": {
        "id": "hgmBkfIcahMI"
      },
      "source": [
        "file_path = 'https://raw.githubusercontent.com/xiaoconghua/algorithmic-trading-python/master/starter_files/sp_500_stocks.csv'\n",
        "stocks = pd.read_csv(file_path)\n",
        "\n",
        "# Move this to a `secrets.py` in the future\n",
        "IEX_CLOUD_API_TOKEN = 'Tpk_059b97af715d417d9f49f50b51b1c448'"
      ],
      "execution_count": null,
      "outputs": []
    },
    {
      "cell_type": "markdown",
      "metadata": {
        "id": "vOxTKpFVahMJ"
      },
      "source": [
        "## Making Our First API Call\n",
        "It's now time to make the first version of our value screener!\n",
        "\n",
        "We'll start by building a simple value screener that ranks securities based on a single metric (the price-to-earnings ratio)."
      ]
    },
    {
      "cell_type": "code",
      "metadata": {
        "id": "sPBJOfYvahMJ"
      },
      "source": [
        "symbol = 'AAPL'\n",
        "api_url = f'https://sandbox.iexapis.com/stable/stock/{symbol}/quote/?token={IEX_CLOUD_API_TOKEN}'\n",
        "data = requests.get(api_url).json()"
      ],
      "execution_count": null,
      "outputs": []
    },
    {
      "cell_type": "markdown",
      "metadata": {
        "id": "wvrELmVRahMK"
      },
      "source": [
        "## Parsing Our API Call\n",
        "This API call has the metric we need - the price-to-earnings ratio.\n",
        "\n",
        "Here is an example of how to parse the metric from our API call:"
      ]
    },
    {
      "cell_type": "code",
      "metadata": {
        "id": "UYx7Tvd1ahML"
      },
      "source": [
        ""
      ],
      "execution_count": null,
      "outputs": []
    },
    {
      "cell_type": "markdown",
      "metadata": {
        "id": "ntcf_GMiahML"
      },
      "source": [
        "## Executing A Batch API Call & Building Our DataFrame\n",
        "\n",
        "Just like in our first project, it's now time to execute several batch API calls and add the information we need to our DataFrame.\n",
        "\n",
        "We'll start by running the following code cell, which contains some code we already built last time that we can re-use for this project. More specifically, it contains a function called chunks that we can use to divide our list of securities into groups of 100."
      ]
    },
    {
      "cell_type": "code",
      "metadata": {
        "id": "LKTPdN4qahMM"
      },
      "source": [
        "# Function sourced from \n",
        "# https://stackoverflow.com/questions/312443/how-do-you-split-a-list-into-evenly-sized-chunks\n",
        "def chunks(lst, n):\n",
        "    \"\"\"Yield successive n-sized chunks from lst.\"\"\"\n",
        "    for i in range(0, len(lst), n):\n",
        "        yield lst[i:i + n]   \n",
        "        \n",
        "symbol_groups = list(chunks(stocks['Ticker'], 100))\n",
        "symbol_strings = []\n",
        "for i in range(0, len(symbol_groups)):\n",
        "    symbol_strings.append(','.join(symbol_groups[i]))\n",
        "#     print(symbol_strings[i])\n",
        "\n",
        "my_columns = ['Ticker', 'Price', 'Price-to-Earnings Ratio', 'Number of Shares to Buy']"
      ],
      "execution_count": null,
      "outputs": []
    },
    {
      "cell_type": "markdown",
      "metadata": {
        "id": "VCgy2OkDahMN"
      },
      "source": [
        "Now we need to create a blank DataFrame and add our data to the data frame one-by-one."
      ]
    },
    {
      "cell_type": "code",
      "metadata": {
        "id": "Uu_OOCVBahMN"
      },
      "source": [
        "final_dataframe = pd.DataFrame(columns=my_columns)\n",
        "for symbol_string in symbol_strings:\n",
        "  batch_api_call_url = f'https://sandbox.iexapis.com/stable/stock/market/batch?symbols={symbol_string}&types=quote&token={IEX_CLOUD_API_TOKEN}'\n",
        "  data = requests.get(batch_api_call_url).json()\n",
        "  # print(data)\n",
        "  # print(symbol_string)\n",
        "  for symbol in symbol_string.split(','):\n",
        "    # print(data[symbol])\n",
        "    final_dataframe = final_dataframe.append(\n",
        "                          pd.Series(\n",
        "                              [\n",
        "                              symbol,\n",
        "                              data[symbol]['quote']['latestPrice'],\n",
        "                              data[symbol]['quote']['peRatio'],\n",
        "                              'N/A'\n",
        "                              ],\n",
        "                              index=my_columns,\n",
        "                          ),\n",
        "                          ignore_index=True\n",
        "                      )\n",
        "final_dataframe"
      ],
      "execution_count": null,
      "outputs": []
    },
    {
      "cell_type": "markdown",
      "metadata": {
        "id": "kXJJG4HwahMO"
      },
      "source": [
        "## Removing Glamour Stocks\n",
        "\n",
        "The opposite of a \"value stock\" is a \"glamour stock\". \n",
        "\n",
        "Since the goal of this strategy is to identify the 50 best value stocks from our universe, our next step is to remove glamour stocks from the DataFrame.\n",
        "\n",
        "We'll sort the DataFrame by the stocks' price-to-earnings ratio, and drop all stocks outside the top 50."
      ]
    },
    {
      "cell_type": "code",
      "metadata": {
        "id": "an2MdawjahMO"
      },
      "source": [
        "final_dataframe.sort_values('Price-to-Earnings Ratio', ascending=True, inplace=True)\n",
        "final_dataframe = final_dataframe[final_dataframe['Price-to-Earnings Ratio'] > 0]\n",
        "final_dataframe = final_dataframe[:50]\n",
        "final_dataframe.reset_index(inplace=True, drop=True)\n",
        "final_dataframe"
      ],
      "execution_count": null,
      "outputs": []
    },
    {
      "cell_type": "markdown",
      "metadata": {
        "id": "M04JTZvLahMO"
      },
      "source": [
        "## Calculating the Number of Shares to Buy\n",
        "We now need to calculate the number of shares we need to buy. \n",
        "\n",
        "To do this, we will use the `portfolio_input` function that we created in our momentum project.\n",
        "\n",
        "I have included this function below."
      ]
    },
    {
      "cell_type": "code",
      "metadata": {
        "id": "NLGhU-GYahMP"
      },
      "source": [
        "def portfolio_input():\n",
        "    global portfolio_size\n",
        "    portfolio_size = input(\"Enter the value of your portfolio:\")\n",
        "\n",
        "    try:\n",
        "        val = float(portfolio_size)\n",
        "    except ValueError:\n",
        "        print(\"That's not a number! \\n Try again:\")\n",
        "        portfolio_size = input(\"Enter the value of your portfolio:\")"
      ],
      "execution_count": null,
      "outputs": []
    },
    {
      "cell_type": "markdown",
      "metadata": {
        "id": "Wi4jMPwnahMP"
      },
      "source": [
        "Use the `portfolio_input` function to accept a `portfolio_size` variable from the user of this script."
      ]
    },
    {
      "cell_type": "code",
      "metadata": {
        "id": "PrfDcwOmahMP"
      },
      "source": [
        "portfolio_input()"
      ],
      "execution_count": null,
      "outputs": []
    },
    {
      "cell_type": "markdown",
      "metadata": {
        "id": "8G37DK6gahMQ"
      },
      "source": [
        "You can now use the global `portfolio_size` variable to calculate the number of shares that our strategy should purchase."
      ]
    },
    {
      "cell_type": "code",
      "metadata": {
        "id": "KS_MXo7rahMR"
      },
      "source": [
        "position_size = float(portfolio_size) / len(final_dataframe.index)\n",
        "# number_of_apple_shareds = position_size/117\n",
        "for i in range(len(final_dataframe.index)):\n",
        "  final_dataframe.loc[i, 'Number of Shares to Buy'] = \\\n",
        "    math.floor(position_size/final_dataframe.loc[i, 'Price'])"
      ],
      "execution_count": null,
      "outputs": []
    },
    {
      "cell_type": "markdown",
      "metadata": {
        "id": "UL7suYTCahMR"
      },
      "source": [
        "## Building a Better (and More Realistic) Value Strategy\n",
        "Every valuation metric has certain flaws.\n",
        "\n",
        "For example, the price-to-earnings ratio doesn't work well with stocks with negative earnings.\n",
        "\n",
        "Similarly, stocks that buyback their own shares are difficult to value using the price-to-book ratio.\n",
        "\n",
        "Investors typically use a `composite` basket of valuation metrics to build robust quantitative value strategies. In this section, we will filter for stocks with the lowest percentiles on the following metrics:\n",
        "\n",
        "* Price-to-earnings ratio\n",
        "* Price-to-book ratio\n",
        "* Price-to-sales ratio\n",
        "* Enterprise Value divided by Earnings Before Interest, Taxes, Depreciation, and Amortization (EV/EBITDA)\n",
        "* Enterprise Value divided by Gross Profit (EV/GP)\n",
        "\n",
        "Some of these metrics aren't provided directly by the IEX Cloud API, and must be computed after pulling raw data. We'll start by calculating each data point from scratch."
      ]
    },
    {
      "cell_type": "code",
      "metadata": {
        "id": "p66a_zxiahMS"
      },
      "source": [
        "symbol = 'AAPL'\n",
        "batch_api_call_url = f'https://sandbox.iexapis.com/stable/stock/market/batch?symbols={symbol}&types=quote,advanced-stats&token={IEX_CLOUD_API_TOKEN}'\n",
        "data = requests.get(batch_api_call_url).json()\n",
        "# print(data[symbol]['advanced-stats'])\n",
        "\n",
        "# Price-to-earnings ratio\n",
        "pe_ratio = data[symbol]['quote']['peRatio']\n",
        "\n",
        "# Price-to-book ratio\n",
        "pb_ratio = data[symbol]['advanced-stats']['priceToBook']\n",
        "\n",
        "# Price-to-sales ratio\n",
        "ps_ratio = data[symbol]['advanced-stats']['priceToSales']\n",
        "\n",
        "# Enterprise Value divided by Earnings Before Interest, Taxes, Depreciation, and Amortization (EV/EBITDA)\n",
        "enterprise_value = data[symbol]['advanced-stats']['enterpriseValue']\n",
        "ebitda = data[symbol]['advanced-stats']['EBITDA']\n",
        "ev_to_ebitda = enterprise_value/ebitda\n",
        "\n",
        "# Enterprise Value divided by Gross Profit (EV/GP)\n",
        "gross_profit = data[symbol]['advanced-stats']['grossProfit']\n",
        "ev_to_gp = enterprise_value/gross_profit"
      ],
      "execution_count": null,
      "outputs": []
    },
    {
      "cell_type": "markdown",
      "metadata": {
        "id": "geHVVjqwahMS"
      },
      "source": [
        "Let's move on to building our DataFrame. You'll notice that I use the abbreviation `rv` often. It stands for `robust value`, which is what we'll call this sophisticated strategy moving forward."
      ]
    },
    {
      "cell_type": "code",
      "metadata": {
        "id": "xZR1zrGCahMS"
      },
      "source": [
        "rv_columns = [\n",
        "  'Ticker',\n",
        "  'Price',\n",
        "  'Number of Shares to Buy',\n",
        "  'Price-to-Earnings Ratio',\n",
        "  'PE Percentile',\n",
        "  'Price-to-Book Ratio',\n",
        "  'PB Percentile',\n",
        "  'Price-to-Sales Ratio',\n",
        "  'PS Percentile',\n",
        "  'EV/EBITDA',\n",
        "  'EV/EBITDA Percentile',\n",
        "  'EV/GP',\n",
        "  'EV/GP Percentile',\n",
        "  'RV Score'\n",
        "]\n",
        "\n",
        "rv_dataframe = pd.DataFrame(columns=rv_columns)\n",
        "rv_dataframe"
      ],
      "execution_count": null,
      "outputs": []
    },
    {
      "cell_type": "code",
      "metadata": {
        "id": "OBqlQ9IcahMT"
      },
      "source": [
        "for symbol_string in symbol_strings:\n",
        "  batch_api_call_url = f'https://sandbox.iexapis.com/stable/stock/market/batch?symbols={symbol_string}&types=quote,advanced-stats&token={IEX_CLOUD_API_TOKEN}'\n",
        "  data = requests.get(batch_api_call_url).json()\n",
        "  # print(data)\n",
        "  # print(symbol_string)\n",
        "  for symbol in symbol_string.split(','):\n",
        "    enterprise_value = data[symbol]['advanced-stats']['enterpriseValue']\n",
        "    ebitda = data[symbol]['advanced-stats']['EBITDA']\n",
        "    try:\n",
        "      ev_to_ebitda = enterprise_value/ebitda\n",
        "    except TypeError:\n",
        "      ev_to_ebitda = np.NaN\n",
        "\n",
        "    # Enterprise Value divided by Gross Profit (EV/GP)\n",
        "    gross_profit = data[symbol]['advanced-stats']['grossProfit']\n",
        "    try:\n",
        "      ev_to_gp = enterprise_value/gross_profit\n",
        "    except TypeError:\n",
        "      ev_to_gp = np.NaN\n",
        "    \n",
        "    rv_dataframe = rv_dataframe.append(\n",
        "                          pd.Series(\n",
        "                              [\n",
        "                              symbol,\n",
        "                              data[symbol]['quote']['latestPrice'],\n",
        "                              'N/A',\n",
        "                              data[symbol]['quote']['peRatio'],\n",
        "                              'N/A',\n",
        "                               data[symbol]['advanced-stats']['priceToBook'],\n",
        "                              'N/A',\n",
        "                               data[symbol]['advanced-stats']['priceToSales'],\n",
        "                              'N/A',\n",
        "                               ev_to_ebitda,\n",
        "                               'N/A',\n",
        "                               ev_to_gp,\n",
        "                               'N/A',\n",
        "                               'N/A'\n",
        "                              ],\n",
        "                              index=rv_columns,\n",
        "                          ),\n",
        "                          ignore_index=True\n",
        "                      )\n",
        "    \n",
        "rv_dataframe"
      ],
      "execution_count": null,
      "outputs": []
    },
    {
      "cell_type": "markdown",
      "metadata": {
        "id": "aJ7p_yHLahMU"
      },
      "source": [
        "## Dealing With Missing Data in Our DataFrame\n",
        "\n",
        "Our DataFrame contains some missing data because all of the metrics we require are not available through the API we're using. \n",
        "\n",
        "You can use pandas' `isnull` method to identify missing data:"
      ]
    },
    {
      "cell_type": "code",
      "metadata": {
        "id": "Bl7DSUYYahMU"
      },
      "source": [
        "rv_dataframe[rv_dataframe.isnull().any(axis=1)]"
      ],
      "execution_count": null,
      "outputs": []
    },
    {
      "cell_type": "markdown",
      "metadata": {
        "id": "lyGKJsW2ahMU"
      },
      "source": [
        "Dealing with missing data is an important topic in data science.\n",
        "\n",
        "There are two main approaches:\n",
        "\n",
        "* Drop missing data from the data set (pandas' `dropna` method is useful here)\n",
        "* Replace missing data with a new value (pandas' `fillna` method is useful here)\n",
        "\n",
        "In this tutorial, we will replace missing data with the average non-`NaN` data point from that column. \n",
        "\n",
        "Here is the code to do this:"
      ]
    },
    {
      "cell_type": "code",
      "metadata": {
        "id": "8viwe_3sahMV"
      },
      "source": [
        "for col in ['Price-to-Earnings Ratio', 'Price-to-Sales Ratio', 'Price-to-Book Ratio', 'EV/EBITDA', 'EV/GP']:\n",
        "  rv_dataframe[col].fillna(rv_dataframe[col].mean(), inplace=True)"
      ],
      "execution_count": null,
      "outputs": []
    },
    {
      "cell_type": "markdown",
      "metadata": {
        "id": "g6sLBX98ahMV"
      },
      "source": [
        "Now, if we run the statement from earlier to print rows that contain missing data, nothing should be returned:"
      ]
    },
    {
      "cell_type": "code",
      "metadata": {
        "id": "vrxxs2yVahMV"
      },
      "source": [
        "rv_dataframe[rv_dataframe.isnull().any(axis=1)]"
      ],
      "execution_count": null,
      "outputs": []
    },
    {
      "cell_type": "markdown",
      "metadata": {
        "id": "urGbYb9QahMW"
      },
      "source": [
        "## Calculating Value Percentiles\n",
        "\n",
        "We now need to calculate value score percentiles for every stock in the universe. More specifically, we need to calculate percentile scores for the following metrics for every stock:\n",
        "\n",
        "* Price-to-earnings ratio\n",
        "* Price-to-book ratio\n",
        "* Price-to-sales ratio\n",
        "* EV/EBITDA\n",
        "* EV/GP\n",
        "\n",
        "Here's how we'll do this:"
      ]
    },
    {
      "cell_type": "code",
      "metadata": {
        "id": "tyDcXFWSahMW"
      },
      "source": [
        "metrics = {  \n",
        "  'Price-to-Earnings Ratio':'PE Percentile',\n",
        "  'Price-to-Book Ratio':'PB Percentile',\n",
        "  'Price-to-Sales Ratio':'PS Percentile',\n",
        "  'EV/EBITDA':'EV/EBITDA Percentile',\n",
        "  'EV/GP':'EV/GP Percentile'\n",
        "  }\n",
        "\n",
        "for metric in metrics.keys():\n",
        "  for row in rv_dataframe.index:\n",
        "    rv_dataframe.loc[row, metrics[metric]] = \\\n",
        "      stats.percentileofscore(rv_dataframe[metric], rv_dataframe.loc[row, metric])/100\n",
        "\n",
        "rv_dataframe"
      ],
      "execution_count": null,
      "outputs": []
    },
    {
      "cell_type": "markdown",
      "metadata": {
        "id": "OxB8VrTNahMW"
      },
      "source": [
        "## Calculating the RV Score\n",
        "We'll now calculate our RV Score (which stands for Robust Value), which is the value score that we'll use to filter for stocks in this investing strategy.\n",
        "\n",
        "The RV Score will be the arithmetic mean of the 4 percentile scores that we calculated in the last section.\n",
        "\n",
        "To calculate arithmetic mean, we will use the mean function from Python's built-in statistics module."
      ]
    },
    {
      "cell_type": "code",
      "metadata": {
        "id": "E6AtFqunahMX"
      },
      "source": [
        "from statistics import mean\n",
        "for row in rv_dataframe.index:\n",
        "  metric_score = []\n",
        "  for metric in metrics.keys():\n",
        "    metric_score.append(rv_dataframe.loc[row, metrics[metric]])\n",
        "  rv_dataframe.loc[row, 'RV Score'] = mean(metric_score)\n",
        "\n",
        "rv_dataframe"
      ],
      "execution_count": null,
      "outputs": []
    },
    {
      "cell_type": "markdown",
      "metadata": {
        "id": "V5S1XJ57ahMY"
      },
      "source": [
        "## Selecting the 50 Best Value Stocks¶\n",
        "\n",
        "As before, we can identify the 50 best value stocks in our universe by sorting the DataFrame on the RV Score column and dropping all but the top 50 entries."
      ]
    },
    {
      "cell_type": "code",
      "metadata": {
        "id": "y2E2cQLJahMY"
      },
      "source": [
        "rv_dataframe.sort_values('RV Score', ascending=False, inplace=True)\n",
        "rv_dataframe = rv_dataframe[:50]\n",
        "rv_dataframe.reset_index(drop=True, inplace=True)\n",
        "\n",
        "rv_dataframe"
      ],
      "execution_count": null,
      "outputs": []
    },
    {
      "cell_type": "markdown",
      "metadata": {
        "id": "bB2LRkVBahMZ"
      },
      "source": [
        "## Calculating the Number of Shares to Buy\n",
        "We'll use the `portfolio_input` function that we created earlier to accept our portfolio size. Then we will use similar logic in a for loop to calculate the number of shares to buy for each stock in our investment universe."
      ]
    },
    {
      "cell_type": "code",
      "metadata": {
        "id": "dYmZiFWZahMZ"
      },
      "source": [
        "portfolio_input()"
      ],
      "execution_count": null,
      "outputs": []
    },
    {
      "cell_type": "code",
      "metadata": {
        "id": "zIaaT-seahMa"
      },
      "source": [
        "position_size = float(portfolio_size)/50\n",
        "for row in rv_dataframe.index:\n",
        "  rv_dataframe.loc[row, 'Number of Shares to Buy'] = \\\n",
        "    math.floor(position_size/rv_dataframe.loc[row, 'Price'])\n",
        "\n",
        "rv_dataframe"
      ],
      "execution_count": null,
      "outputs": []
    },
    {
      "cell_type": "markdown",
      "metadata": {
        "id": "bsouWxHeahMa"
      },
      "source": [
        "## Formatting Our Excel Output\n",
        "\n",
        "We will be using the XlsxWriter library for Python to create nicely-formatted Excel files.\n",
        "\n",
        "XlsxWriter is an excellent package and offers tons of customization. However, the tradeoff for this is that the library can seem very complicated to new users. Accordingly, this section will be fairly long because I want to do a good job of explaining how XlsxWriter works."
      ]
    },
    {
      "cell_type": "code",
      "metadata": {
        "id": "NblvPRScahMa"
      },
      "source": [
        "writer = pd.ExcelWriter('rv_score.xlsx', engine='xlsxwriter')\n",
        "rv_dataframe.to_excel(writer, 'RV Score', index=False)"
      ],
      "execution_count": null,
      "outputs": []
    },
    {
      "cell_type": "markdown",
      "metadata": {
        "id": "A9CaMb5iahMa"
      },
      "source": [
        "## Creating the Formats We'll Need For Our .xlsx File\n",
        "You'll recall from our first project that formats include colors, fonts, and also symbols like % and $. We'll need four main formats for our Excel document:\n",
        "\n",
        "* String format for tickers\n",
        "* \\$XX.XX format for stock prices\n",
        "* \\$XX,XXX format for market capitalization\n",
        "* Integer format for the number of shares to purchase\n",
        "* Float formats with 1 decimal for each valuation metric\n",
        "\n",
        "Since we already built some formats in past sections of this course, I've included them below for you. Run this code cell before proceeding."
      ]
    },
    {
      "cell_type": "code",
      "metadata": {
        "id": "axCOly2cahMa"
      },
      "source": [
        "background_color = '#0a0a23'\n",
        "font_color = '#ffffff'\n",
        "\n",
        "string_template = writer.book.add_format(\n",
        "        {\n",
        "            'font_color': font_color,\n",
        "            'bg_color': background_color,\n",
        "            'border': 1\n",
        "        }\n",
        "    )\n",
        "\n",
        "dollar_template = writer.book.add_format(\n",
        "        {\n",
        "            'num_format':'$0.00',\n",
        "            'font_color': font_color,\n",
        "            'bg_color': background_color,\n",
        "            'border': 1\n",
        "        }\n",
        "    )\n",
        "\n",
        "integer_template = writer.book.add_format(\n",
        "        {\n",
        "            'num_format':'0',\n",
        "            'font_color': font_color,\n",
        "            'bg_color': background_color,\n",
        "            'border': 1\n",
        "        }\n",
        "    )\n",
        "\n",
        "percent_template = writer.book.add_format(\n",
        "        {\n",
        "            'num_format':'0.0%',\n",
        "            'font_color': font_color,\n",
        "            'bg_color': background_color,\n",
        "            'border': 1\n",
        "        }\n",
        "    )\n",
        "\n",
        "float_template = writer.book.add_format(\n",
        "        {\n",
        "            'num_format':'0.0',\n",
        "            'font_color': font_color,\n",
        "            'bg_color': background_color,\n",
        "            'border': 1\n",
        "        }\n",
        "    )"
      ],
      "execution_count": null,
      "outputs": []
    },
    {
      "cell_type": "code",
      "metadata": {
        "id": "30kkyNIeahMb"
      },
      "source": [
        "column_formats = {\n",
        "    'A': ['Ticker', string_template],\n",
        "    'B': ['Price', dollar_template],\n",
        "    'C': ['Number of Shares to Buy', integer_template],\n",
        "    'D': ['Price-to-Earnings Ratio', float_template],\n",
        "    'E': ['PE Percentile', percent_template],\n",
        "    'F': ['Price-to-Book Ratio', float_template],\n",
        "    'G': ['PB Percentile', percent_template],\n",
        "    'H': ['Price-to-Sales Ratio', float_template],\n",
        "    'I': ['PS Percentile', percent_template],\n",
        "    'J': ['EV/EBITDA', float_template],\n",
        "    'K': ['EV/EBITDA Percentile', percent_template],\n",
        "    'L': ['EV/GP', float_template],\n",
        "    'M': ['EV/GP Percentile', percent_template],\n",
        "    'N': ['HQM Score', percent_template],\n",
        "}\n",
        "\n",
        "for column in column_formats:\n",
        "  writer.sheets['RV Score'].set_column(f'{column}:{column}', 18, column_formats[column][1])\n",
        "  writer.sheets['RV Score'].write(f'{column}1', column_formats[column][0], column_formats[column][1])"
      ],
      "execution_count": null,
      "outputs": []
    },
    {
      "cell_type": "markdown",
      "metadata": {
        "id": "AfdpvCq9ahMb"
      },
      "source": [
        "## Saving Our Excel Output\n",
        "As before, saving our Excel output is very easy:"
      ]
    },
    {
      "cell_type": "code",
      "metadata": {
        "id": "jqe6gbVeahMb"
      },
      "source": [
        "writer.save()"
      ],
      "execution_count": null,
      "outputs": []
    },
    {
      "cell_type": "code",
      "metadata": {
        "id": "3IzJStHIQilX"
      },
      "source": [
        ""
      ],
      "execution_count": null,
      "outputs": []
    }
  ]
}